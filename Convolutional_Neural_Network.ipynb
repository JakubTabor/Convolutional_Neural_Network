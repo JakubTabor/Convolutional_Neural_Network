{
 "cells": [
  {
   "cell_type": "code",
   "execution_count": 22,
   "metadata": {
    "id": "fm3ApW1IDmxS"
   },
   "outputs": [],
   "source": [
    "import tensorflow as tf\n",
    "from keras.preprocessing.image import ImageDataGenerator"
   ]
  },
  {
   "cell_type": "code",
   "execution_count": 2,
   "metadata": {
    "colab": {
     "base_uri": "https://localhost:8080/",
     "height": 36
    },
    "id": "SOzclpxP3GMt",
    "outputId": "8ec52498-4c27-4828-c0b6-31d3e41a49ad"
   },
   "outputs": [
    {
     "data": {
      "text/plain": [
       "'2.12.0'"
      ]
     },
     "execution_count": 2,
     "metadata": {},
     "output_type": "execute_result"
    }
   ],
   "source": [
    "tf.__version__"
   ]
  },
  {
   "cell_type": "code",
   "execution_count": 23,
   "metadata": {
    "id": "UPRLrP9X3erm"
   },
   "outputs": [
    {
     "name": "stdout",
     "output_type": "stream",
     "text": [
      "Found 8000 images belonging to 2 classes.\n"
     ]
    }
   ],
   "source": [
    "train_datagen = ImageDataGenerator(rescale = 1./255,\n",
    "                                   shear_range = 0.2,\n",
    "                                   zoom_range = 0.2,\n",
    "                                   horizontal_flip = True)\n",
    "training_set = train_datagen.flow_from_directory('dataset/training_set',\n",
    "                                                 target_size = (64, 64),\n",
    "                                                 batch_size = 32,\n",
    "                                                 class_mode = 'binary')"
   ]
  },
  {
   "cell_type": "code",
   "execution_count": 24,
   "metadata": {
    "id": "4VRo5Tu75PPX"
   },
   "outputs": [
    {
     "name": "stdout",
     "output_type": "stream",
     "text": [
      "Found 2000 images belonging to 2 classes.\n"
     ]
    }
   ],
   "source": [
    "test_datagen = ImageDataGenerator(rescale = 1./255)\n",
    "test_set = test_datagen.flow_from_directory('dataset/test_set',\n",
    "                                            target_size = (64, 64),\n",
    "                                            batch_size = 32,\n",
    "                                            class_mode = 'binary')"
   ]
  },
  {
   "cell_type": "code",
   "execution_count": 25,
   "metadata": {
    "id": "DfwpYMg5H875"
   },
   "outputs": [],
   "source": [
    "cnn = tf.keras.models.Sequential()"
   ]
  },
  {
   "cell_type": "code",
   "execution_count": 26,
   "metadata": {
    "id": "9Q5t1EGhIJfO"
   },
   "outputs": [],
   "source": [
    "cnn.add(tf.keras.layers.Conv2D(filters=32, kernel_size=3, activation='relu', input_shape=[64, 64, 3]))"
   ]
  },
  {
   "cell_type": "code",
   "execution_count": 27,
   "metadata": {
    "id": "VddLdKRrImd_"
   },
   "outputs": [],
   "source": [
    "cnn.add(tf.keras.layers.MaxPool2D(pool_size=2, strides=2))"
   ]
  },
  {
   "cell_type": "code",
   "execution_count": 28,
   "metadata": {
    "id": "B1YecqCbI4K6"
   },
   "outputs": [],
   "source": [
    "cnn.add(tf.keras.layers.Conv2D(filters=32, kernel_size=3, activation='relu'))\n",
    "cnn.add(tf.keras.layers.MaxPool2D(pool_size=2, strides=2))"
   ]
  },
  {
   "cell_type": "code",
   "execution_count": 10,
   "metadata": {
    "id": "INaIRVh2JUcL"
   },
   "outputs": [],
   "source": [
    "cnn.add(tf.keras.layers.Flatten())"
   ]
  },
  {
   "cell_type": "code",
   "execution_count": 11,
   "metadata": {
    "id": "evyGIb7jJiFh"
   },
   "outputs": [],
   "source": [
    "cnn.add(tf.keras.layers.Dense(units=128, activation='relu'))"
   ]
  },
  {
   "cell_type": "code",
   "execution_count": 12,
   "metadata": {
    "id": "Q2pb4DFpJxIl"
   },
   "outputs": [],
   "source": [
    "cnn.add(tf.keras.layers.Dense(units=1, activation='sigmoid'))"
   ]
  },
  {
   "cell_type": "code",
   "execution_count": 14,
   "metadata": {
    "id": "u-Mx_oqoLuqv"
   },
   "outputs": [],
   "source": [
    "cnn.compile(optimizer='adam', loss='binary_crossentropy', metrics=['accuracy'])"
   ]
  },
  {
   "cell_type": "code",
   "execution_count": 17,
   "metadata": {
    "id": "xuNKmGLjL9lw"
   },
   "outputs": [
    {
     "name": "stdout",
     "output_type": "stream",
     "text": [
      "Epoch 1/25\n",
      "250/250 [==============================] - 114s 445ms/step - loss: 0.6659 - accuracy: 0.5836 - val_loss: 0.6031 - val_accuracy: 0.6830\n",
      "Epoch 2/25\n",
      "250/250 [==============================] - 99s 397ms/step - loss: 0.5870 - accuracy: 0.6870 - val_loss: 0.5567 - val_accuracy: 0.7210\n",
      "Epoch 3/25\n",
      "250/250 [==============================] - 104s 414ms/step - loss: 0.5424 - accuracy: 0.7275 - val_loss: 0.5144 - val_accuracy: 0.7465\n",
      "Epoch 4/25\n",
      "250/250 [==============================] - 104s 414ms/step - loss: 0.5164 - accuracy: 0.7389 - val_loss: 0.5251 - val_accuracy: 0.7360\n",
      "Epoch 5/25\n",
      "250/250 [==============================] - 110s 440ms/step - loss: 0.5000 - accuracy: 0.7561 - val_loss: 0.5342 - val_accuracy: 0.7305\n",
      "Epoch 6/25\n",
      "250/250 [==============================] - 110s 439ms/step - loss: 0.4733 - accuracy: 0.7734 - val_loss: 0.5133 - val_accuracy: 0.7405\n",
      "Epoch 7/25\n",
      "250/250 [==============================] - 125s 500ms/step - loss: 0.4596 - accuracy: 0.7812 - val_loss: 0.4670 - val_accuracy: 0.7805\n",
      "Epoch 8/25\n",
      "250/250 [==============================] - 115s 460ms/step - loss: 0.4462 - accuracy: 0.7836 - val_loss: 0.4940 - val_accuracy: 0.7710\n",
      "Epoch 9/25\n",
      "250/250 [==============================] - 117s 465ms/step - loss: 0.4378 - accuracy: 0.7965 - val_loss: 0.4832 - val_accuracy: 0.7925\n",
      "Epoch 10/25\n",
      "250/250 [==============================] - 96s 382ms/step - loss: 0.4183 - accuracy: 0.8041 - val_loss: 0.4833 - val_accuracy: 0.7785\n",
      "Epoch 11/25\n",
      "250/250 [==============================] - 93s 372ms/step - loss: 0.4119 - accuracy: 0.8083 - val_loss: 0.4959 - val_accuracy: 0.7820\n",
      "Epoch 12/25\n",
      "250/250 [==============================] - 89s 356ms/step - loss: 0.3951 - accuracy: 0.8213 - val_loss: 0.4564 - val_accuracy: 0.7960\n",
      "Epoch 13/25\n",
      "250/250 [==============================] - 82s 329ms/step - loss: 0.3831 - accuracy: 0.8299 - val_loss: 0.4643 - val_accuracy: 0.7865\n",
      "Epoch 14/25\n",
      "250/250 [==============================] - 85s 341ms/step - loss: 0.3722 - accuracy: 0.8294 - val_loss: 0.4594 - val_accuracy: 0.7975\n",
      "Epoch 15/25\n",
      "250/250 [==============================] - 106s 424ms/step - loss: 0.3516 - accuracy: 0.8432 - val_loss: 0.5155 - val_accuracy: 0.7740\n",
      "Epoch 16/25\n",
      "250/250 [==============================] - 99s 396ms/step - loss: 0.3454 - accuracy: 0.8456 - val_loss: 0.4973 - val_accuracy: 0.7815\n",
      "Epoch 17/25\n",
      "250/250 [==============================] - 98s 394ms/step - loss: 0.3359 - accuracy: 0.8495 - val_loss: 0.4747 - val_accuracy: 0.7945\n",
      "Epoch 18/25\n",
      "250/250 [==============================] - 78s 312ms/step - loss: 0.3156 - accuracy: 0.8656 - val_loss: 0.5228 - val_accuracy: 0.7815\n",
      "Epoch 19/25\n",
      "250/250 [==============================] - 82s 326ms/step - loss: 0.3057 - accuracy: 0.8675 - val_loss: 0.4981 - val_accuracy: 0.7965\n",
      "Epoch 20/25\n",
      "250/250 [==============================] - 68s 272ms/step - loss: 0.2938 - accuracy: 0.8754 - val_loss: 0.5426 - val_accuracy: 0.7855\n",
      "Epoch 21/25\n",
      "250/250 [==============================] - 70s 279ms/step - loss: 0.2864 - accuracy: 0.8769 - val_loss: 0.5019 - val_accuracy: 0.8000\n",
      "Epoch 22/25\n",
      "250/250 [==============================] - 67s 268ms/step - loss: 0.2707 - accuracy: 0.8851 - val_loss: 0.4879 - val_accuracy: 0.7985\n",
      "Epoch 23/25\n",
      "250/250 [==============================] - 70s 279ms/step - loss: 0.2611 - accuracy: 0.8939 - val_loss: 0.5329 - val_accuracy: 0.7905\n",
      "Epoch 24/25\n",
      "250/250 [==============================] - 68s 273ms/step - loss: 0.2477 - accuracy: 0.8966 - val_loss: 0.5098 - val_accuracy: 0.8135\n",
      "Epoch 25/25\n",
      "250/250 [==============================] - 69s 276ms/step - loss: 0.2309 - accuracy: 0.9000 - val_loss: 0.5636 - val_accuracy: 0.7725\n"
     ]
    },
    {
     "data": {
      "text/plain": [
       "<keras.callbacks.History at 0x1b3953f3eb0>"
      ]
     },
     "execution_count": 17,
     "metadata": {},
     "output_type": "execute_result"
    }
   ],
   "source": [
    "cnn.fit(x = training_set, validation_data = test_set, epochs = 25)"
   ]
  }
 ],
 "metadata": {
  "colab": {
   "provenance": []
  },
  "kernelspec": {
   "display_name": "Python 3 (ipykernel)",
   "language": "python",
   "name": "python3"
  },
  "language_info": {
   "codemirror_mode": {
    "name": "ipython",
    "version": 3
   },
   "file_extension": ".py",
   "mimetype": "text/x-python",
   "name": "python",
   "nbconvert_exporter": "python",
   "pygments_lexer": "ipython3",
   "version": "3.9.13"
  }
 },
 "nbformat": 4,
 "nbformat_minor": 1
}
